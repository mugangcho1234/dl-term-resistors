{
 "cells": [
  {
   "cell_type": "code",
   "execution_count": 27,
   "metadata": {},
   "outputs": [],
   "source": [
    "import cv2\n",
    "import numpy as np\n"
   ]
  },
  {
   "cell_type": "code",
   "execution_count": 28,
   "metadata": {},
   "outputs": [],
   "source": [
    "# Load the image\n",
    "filename = \"resistor3.png\"\n",
    "image = cv2.imread(filename)\n",
    "\n",
    "cv2.imshow(\"Image\", image)\n",
    "cv2.waitKey(0) \n",
    "\n",
    "# edge detection\n",
    "gray = cv2.cvtColor(image, cv2.COLOR_BGR2GRAY)\n",
    "edges = cv2.Canny(gray, 20, 150)\n",
    "\n",
    "cv2.imshow(\"Edges\", edges)\n",
    "cv2.waitKey(0)\n",
    "\n",
    "# find center line of the resistor\n",
    "lines = cv2.HoughLines(edges, 1, np.pi / 180, 50)\n",
    "\n",
    "# Draw the lines\n",
    "for line in lines:\n",
    "    rho, theta = line[0]\n",
    "    a = np.cos(theta)\n",
    "    b = np.sin(theta)\n",
    "    x0 = a * rho\n",
    "    y0 = b * rho\n",
    "\n",
    "    x1 = int(x0 + 1000 * (-b))\n",
    "    y1 = int(y0 + 1000 * (a))\n",
    "    x2 = int(x0 - 1000 * (-b))\n",
    "    y2 = int(y0 - 1000 * (a))\n",
    "\n",
    "    cv2.line(image, (x1, y1), (x2, y2), (0, 0, 255), 2)\n",
    "\n",
    "cv2.imshow(\"Image\", image)\n",
    "cv2.waitKey(0)\n",
    "\n",
    "# try to detect 4 color bands on the center line\n",
    "# get the center line\n",
    "center_line = (x1, y1), (x2, y2)\n",
    "\n",
    "# crop image to the center line\n",
    "image = cv2.imread(filename)\n",
    "image = image[center_line[0][1]:center_line[1][1], center_line[0][0]:center_line[1][0]]\n",
    "\n",
    "# color detection on the center line\n",
    "hsv = cv2.cvtColor(image, cv2.COLOR_BGR2HSV)\n",
    "\n",
    "cv2.imshow(\"Image\", image)\n",
    "cv2.waitKey(0)\n",
    "\n",
    "cv2.destroyAllWindows()"
   ]
  },
  {
   "cell_type": "code",
   "execution_count": 29,
   "metadata": {},
   "outputs": [
    {
     "name": "stderr",
     "output_type": "stream",
     "text": [
      "C:\\Users\\user\\AppData\\Local\\Temp\\ipykernel_9044\\2120407992.py:26: RuntimeWarning: overflow encountered in scalar add\n",
      "  colors[-1][2] = (colors[-1][2] + hsv_image[0][i][2]) / 2\n",
      "C:\\Users\\user\\AppData\\Local\\Temp\\ipykernel_9044\\2120407992.py:20: RuntimeWarning: overflow encountered in scalar subtract\n",
      "  if abs(hsv_image[0][i][0] - hsv_image[0][i-1][0]) < 5:\n"
     ]
    },
    {
     "name": "stdout",
     "output_type": "stream",
     "text": [
      "Colors:  [[28.0, 25.5, 43.0], [26, 25, 171], [21, 58, 184], [20.0, 70.0, 101.5], [18, 93, 220], [10, 159, 119], [5, 135, 102], [19, 101, 225], [25, 107, 213], [60, 196, 207], [54, 203, 195], [20, 104, 219], [11, 134, 251], [0, 255, 253], [9, 135, 248], [19.875, 112.53125, 215.9375], [20.625, 70.625, 183.5], [29.5, 30.5, 43.5], [28, 26, 170]]\n"
     ]
    }
   ],
   "source": [
    "import numpy as np\n",
    "\n",
    "# resize the image to 32 x 1\n",
    "image = cv2.resize(image, (32, 1))\n",
    "hsv_image = cv2.cvtColor(image, cv2.COLOR_BGR2HSV)\n",
    "\n",
    "\n",
    "# Display the image\n",
    "cv2.imshow(\"Image\", image)\n",
    "cv2.waitKey(0)\n",
    "\n",
    "# find contiguous regions of the similar color within +-5 hue color; for each region, find the average color\n",
    "def find_similar_colors(hsv_image):\n",
    "    colors = []\n",
    "    for i in range(0, 32):\n",
    "        if i == 0:\n",
    "            continue\n",
    "        if i == 31:\n",
    "            continue\n",
    "        if abs(hsv_image[0][i][0] - hsv_image[0][i-1][0]) < 5:\n",
    "            if len(colors) == 0:\n",
    "                colors.append([hsv_image[0][i][0], hsv_image[0][i][1], hsv_image[0][i][2]])\n",
    "            else:\n",
    "                colors[-1][0] = (colors[-1][0] + hsv_image[0][i][0]) / 2\n",
    "                colors[-1][1] = (colors[-1][1] + hsv_image[0][i][1]) / 2\n",
    "                colors[-1][2] = (colors[-1][2] + hsv_image[0][i][2]) / 2\n",
    "        else:\n",
    "            colors.append([hsv_image[0][i][0], hsv_image[0][i][1], hsv_image[0][i][2]])\n",
    "\n",
    "\n",
    "    return colors\n",
    "\n",
    "colors = find_similar_colors(hsv_image)\n",
    "print(\"Colors: \", colors)\n",
    "\n",
    "cv2.imshow(\"Image\", image)\n",
    "cv2.waitKey(0)\n",
    "\n",
    "\n",
    "cv2.destroyAllWindows()"
   ]
  },
  {
   "cell_type": "code",
   "execution_count": null,
   "metadata": {},
   "outputs": [],
   "source": []
  }
 ],
 "metadata": {
  "kernelspec": {
   "display_name": "opencv_env",
   "language": "python",
   "name": "python3"
  },
  "language_info": {
   "codemirror_mode": {
    "name": "ipython",
    "version": 3
   },
   "file_extension": ".py",
   "mimetype": "text/x-python",
   "name": "python",
   "nbconvert_exporter": "python",
   "pygments_lexer": "ipython3",
   "version": "3.11.5"
  }
 },
 "nbformat": 4,
 "nbformat_minor": 2
}
